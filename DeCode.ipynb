{
 "cells": [
  {
   "cell_type": "code",
   "execution_count": 1,
   "metadata": {},
   "outputs": [],
   "source": [
    "import pandas as pd\n",
    "from pandas import ExcelWriter\n",
    "from pandas import ExcelFile\n",
    "from math import isclose"
   ]
  },
  {
   "cell_type": "code",
   "execution_count": 2,
   "metadata": {},
   "outputs": [
    {
     "name": "stderr",
     "output_type": "stream",
     "text": [
      "C:\\Users\\David Guarin\\Anaconda3\\lib\\site-packages\\pandas\\util\\_decorators.py:188: FutureWarning: The `sheetname` keyword is deprecated, use `sheet_name` instead\n",
      "  return func(*args, **kwargs)\n"
     ]
    }
   ],
   "source": [
    "#Metodo para Cambiar los datos Blind que estan en formato Long a formato Wide.\n",
    "def descargarDatos():\n",
    "    df = pd.read_excel('Output//Blind_long.xlsx', sheetname='Sheet1')\n",
    "    meses = df['Mes'].unique()\n",
    "\n",
    "    pandas = []\n",
    "    long = 0\n",
    "    for i in range(1, len(meses)):\n",
    "        pandas.append(df.loc[df['Mes'] == meses[i]])\n",
    "\n",
    "    mes_wide = df.loc[df['Mes']==meses[0]]\n",
    "\n",
    "    mes_name = mes_wide.rename(columns={\"Produccion\": meses[0]})\n",
    "    data = mes_name.drop(columns='Mes')\n",
    "\n",
    "    for i in range(0, len(pandas)):\n",
    "        dat = pandas[i]\n",
    "        data[meses[i+1]] = dat['Produccion'].values\n",
    "        \n",
    "    return data\n",
    "#Descargar datos de la ANH\n",
    "dfANH = pd.read_excel('Output//ANH_wide.xlsx', sheetname='Sheet1')\n",
    "#Datos Blind en formato wide\n",
    "dfBlind = descargarDatos()"
   ]
  },
  {
   "cell_type": "code",
   "execution_count": 23,
   "metadata": {},
   "outputs": [
    {
     "name": "stdout",
     "output_type": "stream",
     "text": [
      "0.919571562030213\n"
     ]
    }
   ],
   "source": [
    "#Se saca el de arauca del blind y de la ANH. Ya se sabe que cf33cb8a es arauca porque este nombre tambien se repite en \n",
    "#departamento en ambos en blind y en el ANH. Entonces cf3 podria ser arauca o Bolivar. Sin embargo al ver cada cuanto aparece\n",
    "#bolivar en los años 2017, 2018, 2019. No se repite las mismas veces que aparece cf3 pero arauca si aparece el mismo numero de veces\n",
    "#Sin embargo para confirmar se vio si los datos coo se comportaban y el que seguia el patron mas cercano era arauca.\n",
    "#Mas bien se encontro que cada dato del blind  es: ANH = Blind*(x) o mas bien Blind = ANH/x \n",
    "#Este x viene siendo 0.919571562030213 este numero diverge muy poco en la ultima decimal \n",
    "#ya viene siendo 0.9195715620302133 o 0.9195715620302135 o simplemente 0.919571562030213. \n",
    "#Como el cambio es muy sutil se usa el comparativo is close hasta la decimal. Pero para estar seguros \n",
    "#Revisa cada mes y que cada mes cumpla con este requisito. \n",
    "\n",
    "arauca = dfANH.loc[dfANH['Municipio']=='arauca']\n",
    "arauca2017 = arauca.loc[arauca['Year'] == 2017]\n",
    "\n",
    "araucaBlind = dfBlind.loc[dfBlind['Municipio']=='cf33cb8a']\n",
    "arauca2017Blind = araucaBlind.loc[araucaBlind['Year'] == 2017]\n",
    "#Calculo del multi\n",
    "multi = arauca2017['Enero'].values[0]/arauca2017Blind['Enero'].values[0]\n",
    "multi2 = arauca2017['Enero'].values[1]/arauca2017Blind['Enero'].values[1]\n",
    "ANH2017 = dfANH.loc[dfANH['Year'] == 2017]\n",
    "Blind2017 = dfBlind.loc[dfBlind['Year']==2017]\n",
    "\n",
    "print(multi)\n",
    "#Datos a ver\n",
    "V2017 = Blind2017.values\n",
    "\n",
    "VA2017 = ANH2017.values\n",
    "\n",
    "campo = []\n",
    "departamento = []\n",
    "municipio = []\n",
    "empresa = []\n",
    "contrato =[]\n",
    "year = 2017\n",
    "#recorrido en los tres años\n",
    "for d in range(0,3):\n",
    "    ANH2017 = dfANH.loc[dfANH['Year'] == year+d]\n",
    "    Blind2017 = dfBlind.loc[dfBlind['Year']==year+d]\n",
    "    #recorrer cada blind generado en el supuesto año.\n",
    "    for i in range(0,len(V2017)):\n",
    "        #Iniciar los valores y multiplicarlos por x para sacar el valor de ANH.\n",
    "        VB2017 = V2017[i]\n",
    "        \n",
    "        mes = [VB2017[7]*multi, VB2017[8]*multi, VB2017[9]*multi, VB2017[10]*multi, VB2017[11]*multi, VB2017[12]*multi, VB2017[13]*multi, VB2017[14]*multi, VB2017[15]*multi, VB2017[16]*multi, VB2017[17]*multi, VB2017[18]*multi]\n",
    "        for j in range(0,len(VA2017)):\n",
    "            AV2017 = VA2017[j]\n",
    "          \n",
    "            s = 0\n",
    "            #sacar los valores del ANH en el año\n",
    "            #Mirar si cumple con cada mes\n",
    "            for m in range(0,len(mes)):\n",
    "                if isclose(AV2017[m+7], mes[m], abs_tol=1e-9):\n",
    "                    s+=1\n",
    "            #Si cumple revisar el mes. \n",
    "            if s == 12:\n",
    "                c = 0\n",
    "                d = 0\n",
    "                m = 0\n",
    "                e = 0\n",
    "                co = 0\n",
    "                #guardar los datos que son.\n",
    "                for s in range(0, len(campo)):\n",
    "                    if campo[s][1] == VB2017[0]:\n",
    "                        c = 1\n",
    "                for s in range(0, len(departamento)):\n",
    "                    if departamento[s][1] == VB2017[2]:\n",
    "                        d = 1 \n",
    "                for s in range(0, len(municipio)):\n",
    "                    if municipio[s][1] == VB2017[3]:\n",
    "                        m = 1\n",
    "                for s in range(0, len(empresa)):\n",
    "                    if empresa[s][1] == VB2017[4]:\n",
    "                        e = 1\n",
    "                for s in range(0, len(contrato)):\n",
    "                    if contrato[s][1] == VB2017[6]:\n",
    "                        co = 1\n",
    "                if c == 0:\n",
    "                    campo.append([AV2017[0],VB2017[0]])\n",
    "                if d == 0:\n",
    "                    departamento.append([AV2017[2],VB2017[2]])\n",
    "                if m ==0:\n",
    "                    municipio.append([AV2017[3],VB2017[3]])\n",
    "                if e ==0:\n",
    "                    empresa.append([AV2017[4],VB2017[4]])\n",
    "                if co ==0:\n",
    "                    contrato.append([AV2017[6],VB2017[6]])\n",
    "                \n",
    "\n"
   ]
  },
  {
   "cell_type": "code",
   "execution_count": 9,
   "metadata": {},
   "outputs": [
    {
     "name": "stdout",
     "output_type": "stream",
     "text": [
      "Campo:\n",
      "codigo:  1f d2689f = chipiron\n",
      "codigo:  9ac1420f = galembo\n",
      "codigo:  9b395bc9 = macana\n",
      "codigo:  2f614c0b = caño limon\n",
      "codigo:  043b305e = caño yarumal\n",
      "codigo:  fca93f9e = tonina\n",
      "codigo:  13276557 = araguato\n",
      "codigo:  c220f014 = bayonero\n",
      "codigo:  1fd2689f = chipiron\n",
      "codigo:  1ab355bf = jiba unificado\n",
      "codigo:  3f10a1f5 = canaguey\n",
      "codigo:  c6da2541 = golondrina\n",
      "codigo:  0e01f88f = morrocoy\n",
      "codigo:  241d3779 = rex\n",
      "codigo:  5559f8d7 = rex ne\n",
      "codigo:  5dd16431 = terecay\n",
      "codigo:  3f67010a = redondo\n",
      "codigo:  c728bf96 = caño rondon\n",
      "codigo:  febb6cf6 = caricare\n",
      "codigo:  876a64fe = capachos\n",
      "codigo:  c6ba0174 = glauca\n",
      "codigo:  58a0d8ca = rumba\n",
      "codigo:  7eb34927 = juape\n",
      "codigo:  4f4a249f = santo domingo\n",
      "codigo:  8ba362f3 = santo domingo norte\n",
      "codigo:  4d0fb45e = begonia\n",
      "codigo:  741abe20 = kona\n",
      "codigo:  c98bd9dd = adalia\n",
      "codigo:  51cbb05d = las maracas\n",
      "codigo:  82edafb9 = akira\n",
      "codigo:  8dd7c41b = bacano\n",
      "codigo:  b111ec69 = kitaro\n",
      "codigo:  27cb99a2 = katmandu norte\n",
      "codigo:  48670499 = cohembi\n",
      "codigo:  373ebdec = quillacinga\n",
      "codigo:  e32e23a1 = quinde\n"
     ]
    }
   ],
   "source": [
    "print(\"Campo:\")\n",
    "for i in range(0, len(campo)):\n",
    "    print('codigo: ', campo[i][1], '=', campo[i][0])"
   ]
  },
  {
   "cell_type": "code",
   "execution_count": 10,
   "metadata": {},
   "outputs": [
    {
     "name": "stdout",
     "output_type": "stream",
     "text": [
      "Empresa:\n",
      "codigo:  d5580f74 = occidental de colombia llc\n",
      "codigo:  ffd6d24d = parex resources colombia ltd sucursal\n",
      "codigo:  2fe52430 = vetra exploracion y produccion colombia sas\n"
     ]
    }
   ],
   "source": [
    "print(\"Empresa:\")\n",
    "for i in range(0, len(empresa)):\n",
    "    print('codigo: ', empresa[i][1], '=', empresa[i][0])"
   ]
  },
  {
   "cell_type": "code",
   "execution_count": 14,
   "metadata": {},
   "outputs": [
    {
     "name": "stdout",
     "output_type": "stream",
     "text": [
      "Municipio:\n",
      "codigo:  cf33cb8a = arauca\n",
      "codigo:  102a28a6 = arauquita\n",
      "codigo:  5abe4339 = tame\n",
      "codigo:  95c9d783 = puerto boyaca\n",
      "codigo:  48399655 = aguazul\n",
      "codigo:  16b873c5 = orocue\n",
      "codigo:  21d4886b = paz de ariporo\n",
      "codigo:  1218f7fa = pore\n",
      "codigo:  6feb5887 = san luis de palenque\n",
      "codigo:  e1745f70 = villanueva\n",
      "codigo:  870c4a0b = cabuyaro\n",
      "codigo:  756c486f = puerto asis\n"
     ]
    }
   ],
   "source": [
    "print(\"Municipio:\")\n",
    "\n",
    "for i in range(0, len(municipio)):\n",
    "    print('codigo: ', municipio[i][1], '=', municipio[i][0])"
   ]
  },
  {
   "cell_type": "code",
   "execution_count": 16,
   "metadata": {},
   "outputs": [
    {
     "name": "stdout",
     "output_type": "stream",
     "text": [
      "Departamento:\n",
      "codigo:  cf33cb8a = arauca\n",
      "codigo:  5f559ecb = boyaca\n",
      "codigo:  f7fd2c4f = casanare\n",
      "codigo:  eccb9ef1 = meta\n",
      "codigo:  0fa93c9b = putumayo\n"
     ]
    }
   ],
   "source": [
    "print(\"Departamento:\")\n",
    "\n",
    "for i in range(0, len(departamento)):\n",
    "    print('codigo: ', departamento[i][1], '=', departamento[i][0])"
   ]
  },
  {
   "cell_type": "code",
   "execution_count": 24,
   "metadata": {},
   "outputs": [
    {
     "name": "stdout",
     "output_type": "stream",
     "text": [
      "Contrato:\n",
      "codigo:  76a16657 = chipiron\n",
      "codigo:  29ded6f4 = cravo norte\n",
      "codigo:  a1fdefb8 = cosecha\n",
      "codigo:  ab8c6300 = rondon\n",
      "codigo:  876a64fe = capachos\n",
      "codigo:  6e6815e2 = vmm 11\n",
      "codigo:  5f512199 = e&p llanos 26\n",
      "codigo:  0191a2e4 = cdndi la punta\n",
      "codigo:  e068232a = e&p llanos 40\n",
      "codigo:  1ef80899 = e&p llanos 16 contrato # 45\n",
      "codigo:  af29b5ed = e&p llanos 30\n",
      "codigo:  e753d35d = e&p los ocarros parex\n",
      "codigo:  796c2e32 = cabrestero parex\n",
      "codigo:  a3d02126 = cerrero\n",
      "codigo:  b4dad5fa = cpi sur oriente\n"
     ]
    }
   ],
   "source": [
    "print(\"Contrato:\")\n",
    "\n",
    "for i in range(0, len(contrato)):\n",
    "    print('codigo: ', contrato[i][1], '=', contrato[i][0])"
   ]
  },
  {
   "cell_type": "code",
   "execution_count": null,
   "metadata": {},
   "outputs": [],
   "source": []
  },
  {
   "cell_type": "code",
   "execution_count": null,
   "metadata": {},
   "outputs": [],
   "source": []
  }
 ],
 "metadata": {
  "kernelspec": {
   "display_name": "Python 3",
   "language": "python",
   "name": "python3"
  },
  "language_info": {
   "codemirror_mode": {
    "name": "ipython",
    "version": 3
   },
   "file_extension": ".py",
   "mimetype": "text/x-python",
   "name": "python",
   "nbconvert_exporter": "python",
   "pygments_lexer": "ipython3",
   "version": "3.7.3"
  }
 },
 "nbformat": 4,
 "nbformat_minor": 2
}
