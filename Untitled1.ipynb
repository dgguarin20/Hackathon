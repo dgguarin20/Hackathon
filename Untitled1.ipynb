{
 "cells": [
  {
   "cell_type": "code",
   "execution_count": 8,
   "metadata": {},
   "outputs": [],
   "source": [
    "from runSQL import *\n",
    "import numpy as np"
   ]
  },
  {
   "cell_type": "code",
   "execution_count": 9,
   "metadata": {},
   "outputs": [
    {
     "name": "stdout",
     "output_type": "stream",
     "text": [
      "2505238.215591398\n",
      "[1424726.7893625193, 1431906.55, 1433611.8039185868, 1496382.2686635945, 2505238.215591398]\n"
     ]
    }
   ],
   "source": [
    "def preguntaUno():\n",
    "    campo = getCampoCrudo()\n",
    "    ordenarMayor = []\n",
    "    limite = encontrarIDBorde()\n",
    "    lim = limite[0][0]-1\n",
    "\n",
    "    \n",
    "    for i in range(0, lim):\n",
    "        dataID = campo[i][8]\n",
    "        data = getDataByValue(\"id\", dataID)[0]\n",
    "        data = data[1:]\n",
    "        totalData = sum(data)\n",
    "        ordenarMayor.append(totalData)\n",
    "        \n",
    "    ordenarMayor.sort()\n",
    "    \n",
    "    top5 = ordenarMayor[lim-5:lim]\n",
    "\n",
    "    print(ordenarMayor[lim-1])\n",
    "    print(top5)\n",
    "preguntaUno()"
   ]
  },
  {
   "cell_type": "code",
   "execution_count": 48,
   "metadata": {},
   "outputs": [],
   "source": [
    "def preguntaDos():\n",
    "    valor = \"'casanare'\"\n",
    "    departamentoID = getDepartamentoByValue(\"nombre\", valor)[0][0]\n",
    "    data = getCampoCrudoByValue(\"departamentoID\",departamentoID)\n",
    "    listaEmpresa = getEmpresa()\n",
    "    result = []\n",
    "    for i in range(0, len(listaEmpresa)):\n",
    "        lista = [[\"operadoraID\", listaEmpresa[i][0]],[\"departamentoID\",departamentoID]]\n",
    "        resultados = getCampoCrudeByManyValue2(lista)\n",
    "        if len(resultados)>5:\n",
    "            result.append(resultados)\n",
    "            l = listaEmpresa[i][1]\n",
    "            print(l,\" \", len(resultados))"
   ]
  },
  {
   "cell_type": "code",
   "execution_count": 49,
   "metadata": {},
   "outputs": [],
   "source": [
    "def getCampoCrudeByManyValue2(lista):\n",
    "    conn = sqlite3.connect(\"hackathon.db\")\n",
    "    c = conn.cursor()\n",
    "    mensaje = \"SELECT * FROM CampoCrudo WHERE \"\n",
    "    for i in range(0, len(lista)):\n",
    "        columna = lista[i][0]\n",
    "        valor = lista[i][1]\n",
    "        m = \"{} = {}\".format(columna, valor)\n",
    "        mensaje= mensaje + m\n",
    "        if i < len(lista)-1:\n",
    "            mensaje = mensaje + \" AND \"\n",
    "   \n",
    "    c.execute(mensaje)\n",
    "    rows = c.fetchall()\n",
    "    return rows"
   ]
  },
  {
   "cell_type": "code",
   "execution_count": 50,
   "metadata": {},
   "outputs": [
    {
     "name": "stdout",
     "output_type": "stream",
     "text": [
      "perenco colombia limited   358\n",
      "parex resources colombia ltd   37\n",
      "emerald energy de colombia plc   15\n",
      "sogomi energy sa   13\n",
      "ecopetrol llanos   19\n",
      "interoil colombia exploration and production   15\n",
      "grupo c&c energia barbados sucursal colombia   36\n",
      "pacific stratus energy   7\n",
      "alange energy corp suc colombia   43\n",
      "petrominerales colombia ltd   40\n",
      "colombia energy development   6\n",
      "new granada energy corporation (hupecol ll)   7\n",
      "verano energy (barbados) limited   38\n",
      "cepsa colombia sa   50\n",
      "geopark colombia pn sa sucursal colombia (winchester)   39\n",
      "hocol sa   11\n",
      "vetra exploracion y produccion colombia sa   9\n",
      "geopark cuerva sucursal colombia ll (hupecol ll caracara)   9\n",
      "equion energia limited   64\n",
      "canacol energy colombia sa   23\n",
      "cne oil and gas sas   15\n",
      "union temporal moriche ( pacific stratus energy)   6\n",
      "ecopetrol sa   70\n",
      "parex resources colombia ltd sucursal   46\n",
      "lewis energy colombia inc   31\n",
      "emerald energy plc sucursal colombia   37\n",
      "dcx sas   7\n",
      "frontera energy colombia corp sucursal colombia   137\n",
      "petroleos sud americanos sucursal colombia   12\n",
      "colombia energy development co   46\n",
      "new granada energy corporation sucursal colombia   36\n",
      "canacol energy colombia sas   8\n",
      "carrao energy sa sucursal colomiba   18\n",
      "las quinchas resource corp surcursal colombia   8\n",
      "oiru corporation   29\n",
      "vetra exploracion y produccion colombia sas   15\n",
      "cne oil & gas sas   12\n",
      "geopark colombia sas   113\n",
      "tabasco oil company llc   6\n",
      "perenco oil and gas colombia limited   19\n",
      "invepetrol limited colombia   8\n",
      "c&c energia   15\n",
      "parex resources colombia   11\n",
      "cepcolsa   9\n",
      "alange energy   12\n",
      "new granada energy co   8\n",
      "geopark colombia pn sa   6\n",
      "equion energia ltd   6\n",
      "cepsa colombia sa cepcolsa   11\n",
      "frontera energy   18\n",
      "grupo c&c energia (barbados) sucursal colombia   22\n",
      "pacific stratus energy colombia corp   60\n",
      "new granada energy corporation   14\n"
     ]
    }
   ],
   "source": [
    "preguntaDos()"
   ]
  },
  {
   "cell_type": "code",
   "execution_count": 10,
   "metadata": {},
   "outputs": [
    {
     "data": {
      "text/plain": [
       "[(2, 'casanare')]"
      ]
     },
     "execution_count": 10,
     "metadata": {},
     "output_type": "execute_result"
    }
   ],
   "source": []
  },
  {
   "cell_type": "code",
   "execution_count": null,
   "metadata": {},
   "outputs": [],
   "source": []
  }
 ],
 "metadata": {
  "kernelspec": {
   "display_name": "Python 3",
   "language": "python",
   "name": "python3"
  },
  "language_info": {
   "codemirror_mode": {
    "name": "ipython",
    "version": 3
   },
   "file_extension": ".py",
   "mimetype": "text/x-python",
   "name": "python",
   "nbconvert_exporter": "python",
   "pygments_lexer": "ipython3",
   "version": "3.7.3"
  }
 },
 "nbformat": 4,
 "nbformat_minor": 2
}
